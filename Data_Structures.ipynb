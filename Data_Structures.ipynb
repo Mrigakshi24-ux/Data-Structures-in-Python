{
  "nbformat": 4,
  "nbformat_minor": 0,
  "metadata": {
    "colab": {
      "name": "Data Structures.ipynb",
      "provenance": [],
      "collapsed_sections": []
    },
    "kernelspec": {
      "name": "python3",
      "display_name": "Python 3"
    },
    "language_info": {
      "name": "python"
    }
  },
  "cells": [
    {
      "cell_type": "markdown",
      "metadata": {
        "id": "WzcarbbxKwn3"
      },
      "source": [
        "STACK - LIFO\n"
      ]
    },
    {
      "cell_type": "code",
      "metadata": {
        "colab": {
          "base_uri": "https://localhost:8080/"
        },
        "id": "Szjzku4TKVrn",
        "outputId": "2b3eead2-18d7-42be-bd33-941e2705f5ae"
      },
      "source": [
        "class Stack:\n",
        "  \n",
        "  def __init__(self):                         # defining the constructor here. \n",
        "    self.items = []                           # Self represents the instance of the class, it points to the current object.\n",
        "\n",
        "  def printStack(self):\n",
        "    return self.items\n",
        "  \n",
        "  def push(self, item):\n",
        "    self.items.append(item)                   # it returns None.\n",
        "\n",
        "  def pop(self):\n",
        "    if len(self.items)!=0:\n",
        "      self.items.pop()                        # this also returns None.\n",
        "    else:\n",
        "      return ('Stack is empty')\n",
        "\n",
        "  def peek(self):                             # to return the topmost element, last one in the list\n",
        "    if len(self.items)!=0:\n",
        "      return self.items[-1]\n",
        "    else:\n",
        "      return ('Stack is empty')\n",
        "\n",
        "  def getSize(self):                          # to return the length of stack\n",
        "    return len(self.items)\n",
        "  \n",
        "  def isEmpty(self):                          # returns Boolean\n",
        "    if len(self.items)==0:\n",
        "      return True\n",
        "    else:\n",
        "      return False\n",
        "\n",
        "  def merge_stacks(self, x):\n",
        "    self.items.extend(x)\n",
        "    return self.items\n",
        "\n",
        "if __name__ == '__main__':                    # __name__ is set to the module's name. Here it is set to __main__ ,\n",
        "  stack1 = Stack()                            #  because we are running the source program\n",
        "  print(stack1.isEmpty())\n",
        "  stack1.push(1)\n",
        "  stack1.push(6)\n",
        "  stack1.push(5)\n",
        "  print(stack1.printStack())\n",
        "  stack1.pop()\n",
        "  print(stack1.printStack())\n",
        "  print(stack1.getSize())\n",
        "  print(stack1.peek())\n",
        "  print(stack1.merge_stacks([9,8,3]))"
      ],
      "execution_count": null,
      "outputs": [
        {
          "output_type": "stream",
          "text": [
            "True\n",
            "[1, 6, 5]\n",
            "[1, 6]\n",
            "2\n",
            "6\n",
            "[1, 6, 9, 8, 3]\n"
          ],
          "name": "stdout"
        }
      ]
    },
    {
      "cell_type": "markdown",
      "metadata": {
        "id": "EMEQMSJcU6nE"
      },
      "source": [
        "QUEUE - FIFO"
      ]
    },
    {
      "cell_type": "code",
      "metadata": {
        "colab": {
          "base_uri": "https://localhost:8080/"
        },
        "id": "C-dtc1dnSnX4",
        "outputId": "9e582d59-c891-46c6-cf51-5da943f7147c"
      },
      "source": [
        "class Queue:\n",
        "\n",
        "  def __init__ (self):\n",
        "    self.items = []\n",
        "\n",
        "  def printQueue(self):\n",
        "    return self.items\n",
        "\n",
        "  def enqueue(self, item):\n",
        "    self.items.append(item)\n",
        "\n",
        "  def dequeue(self):\n",
        "    if len(self.items)!=0:\n",
        "      self.items.pop(0)\n",
        "\n",
        "  def front(self):\n",
        "    if len(self.items)!=0:\n",
        "      return self.items[0]\n",
        "\n",
        "  def rear(self):\n",
        "    if len(self.items)!=0:\n",
        "      return self.items[-1]\n",
        "\n",
        "  def getSize(self):\n",
        "    return len(self.items)\n",
        "  \n",
        "  def isEmpty(self):        \n",
        "    if len(self.items)==0:\n",
        "      return True\n",
        "    else:\n",
        "      return False\n",
        "\n",
        "if __name__ == '__main__':            \n",
        "  queue1 = Queue()                    \n",
        "  print(queue1.isEmpty())\n",
        "  queue1.enqueue(1)\n",
        "  queue1.enqueue(6)\n",
        "  queue1.enqueue(5)\n",
        "  print(queue1.printQueue())\n",
        "  queue1.dequeue()\n",
        "  print(queue1.printQueue())\n",
        "  print(queue1.getSize())\n",
        "  print(queue1.front())\n",
        "  print(queue1.rear())"
      ],
      "execution_count": null,
      "outputs": [
        {
          "output_type": "stream",
          "text": [
            "True\n",
            "[1, 6, 5]\n",
            "[6, 5]\n",
            "2\n",
            "6\n",
            "5\n"
          ],
          "name": "stdout"
        }
      ]
    },
    {
      "cell_type": "markdown",
      "metadata": {
        "id": "umB9DsUlrcXE"
      },
      "source": [
        "LINKED LIST"
      ]
    },
    {
      "cell_type": "code",
      "metadata": {
        "id": "qII0vy32V3ji",
        "colab": {
          "base_uri": "https://localhost:8080/"
        },
        "outputId": "f31a1b1a-a629-4387-a16c-81d469b04c1e"
      },
      "source": [
        "class Node:                                # class for defining individual nodes\n",
        "  def __init__(self, data):\n",
        "      self.data = data                     # data for a node\n",
        "      self.next = None                     # next pointer for a node\n",
        "\n",
        "\n",
        "class LinkedL:                             # class for creating linked list from the nodes\n",
        "  def __init__(self):\n",
        "      self.head = None                     # head is the first node, for now it is null\n",
        "  \n",
        "  def printLL(self):                    \n",
        "    t = self.head                          # assigning head to t\n",
        "    while(t):                              # iterating till no nodes left\n",
        "      s = '-->'+str(t.data)                # printing data of that node\n",
        "      print(s, end=\"\")\n",
        "      t = t.next                           # going to the next node \n",
        "\n",
        "  def insert_at_start(self, data):\n",
        "    f = Node(self.head.data)\n",
        "    ptr = self.head.next\n",
        "    self.head.data = data\n",
        "    self.head.next = f\n",
        "    f.next = ptr\n",
        "\n",
        "  def insert_at_end(self, data):\n",
        "    t = self.head\n",
        "    while(t):\n",
        "      if t.next == None:\n",
        "        f = Node(data)\n",
        "        t.next = f\n",
        "        return\n",
        "      t = t.next\n",
        "      \n",
        "  def delete_at_start(self):\n",
        "    data = self.head.next \n",
        "    self.head = data\n",
        "\n",
        "  def delete_at_end(self):\n",
        "    t = self.head\n",
        "    while(t):\n",
        "      if t.next.next == None:\n",
        "        t.next = None\n",
        "        return\n",
        "      t = t.next\n",
        "\n",
        "  def delete_in_middle(self, index):\n",
        "    c = 0\n",
        "    t = self.head\n",
        "    while(t):\n",
        "      if c+1 == index:\n",
        "        d = t.next.next\n",
        "        t.next = d\n",
        "      c+=1\n",
        "      t = t.next\n",
        "\n",
        "  def insert_in_middle(self, index, data):\n",
        "    c = 0\n",
        "    t = self.head\n",
        "    while(t):\n",
        "      if c+1 == index:\n",
        "        f = Node(data)\n",
        "        d = t.next\n",
        "        t.next = f\n",
        "        f.next = d\n",
        "      c+=1\n",
        "      t = t.next\n",
        "\n",
        "  def reverse(self):\n",
        "    c = self.head\n",
        "    prev = None\n",
        "    while(c):\n",
        "      next = c.next\n",
        "      c.next = prev\n",
        "      prev = c\n",
        "      c = next\n",
        "    self.head = prev\n",
        "\n",
        "if __name__ =='__main__':\n",
        "  \n",
        "  ll = LinkedL()                           # Linked list object\n",
        "  ll.head = Node(1)                        # Node(1) is assigned to head\n",
        "\n",
        "  second = Node(2)                         # creating a second node\n",
        "  ll.head.next = second                    # pointer of head points to second Node\n",
        "\n",
        "  third = Node(3)                          # creating a second node\n",
        "  second.next = third                      # pointer of second node points to third Node\n",
        "\n",
        "  ll.printLL()\n",
        "  print()\n",
        "  ll.insert_at_start(4)\n",
        "  ll.printLL()\n",
        "  print()\n",
        "  ll.insert_at_start(5)\n",
        "  ll.printLL()\n",
        "\n",
        "  print()\n",
        "  ll.insert_at_end(7)\n",
        "  ll.printLL()\n",
        "  print()\n",
        "  ll.insert_at_end(8)\n",
        "  ll.printLL()\n",
        "\n",
        "  print()\n",
        "  ll.delete_at_start()\n",
        "  ll.printLL()\n",
        "  print()\n",
        "  ll.delete_at_start()\n",
        "  ll.printLL()\n",
        "\n",
        "  print()\n",
        "  ll.delete_at_end()\n",
        "  ll.printLL()\n",
        "\n",
        "  print()\n",
        "  ll.insert_in_middle(2,9)\n",
        "  ll.printLL()\n",
        "\n",
        "  print()\n",
        "  ll.delete_in_middle(1)\n",
        "  ll.printLL()\n",
        "\n",
        "  print()\n",
        "  ll.reverse()\n",
        "  ll.printLL()"
      ],
      "execution_count": null,
      "outputs": [
        {
          "output_type": "stream",
          "text": [
            "-->1-->2-->3\n",
            "-->4-->1-->2-->3\n",
            "-->5-->4-->1-->2-->3\n",
            "-->5-->4-->1-->2-->3-->7\n",
            "-->5-->4-->1-->2-->3-->7-->8\n",
            "-->4-->1-->2-->3-->7-->8\n",
            "-->1-->2-->3-->7-->8\n",
            "-->1-->2-->3-->7\n",
            "-->1-->2-->9-->3-->7\n",
            "-->1-->9-->3-->7\n",
            "-->7-->3-->9-->1"
          ],
          "name": "stdout"
        }
      ]
    },
    {
      "cell_type": "markdown",
      "metadata": {
        "id": "0C5PaEVXGORl"
      },
      "source": [
        "SLOW AND FAST POINTERS"
      ]
    },
    {
      "cell_type": "code",
      "metadata": {
        "colab": {
          "base_uri": "https://localhost:8080/"
        },
        "id": "zHRTE-KAGNWc",
        "outputId": "8048a464-447d-4bc4-cbe7-dc76864c0a32"
      },
      "source": [
        "class LinkedList:\n",
        "  def __init__ (self, data):\n",
        "    self.data = data\n",
        "    self.next = None\n",
        "\n",
        "  def insert_at_end(self, data):\n",
        "    t = self\n",
        "    while(t):\n",
        "      if t.next == None:\n",
        "        f = LinkedList(data)\n",
        "        t.next = f\n",
        "        return\n",
        "      t = t.next\n",
        "\n",
        "  def printLL(self):                    \n",
        "    t = self                       \n",
        "    while(t):                           \n",
        "      s = '-->'+str(t.data)               \n",
        "      print(s, end=\"\")\n",
        "      t = t.next    \n",
        "\n",
        "  def findCycle(self):\n",
        "    slow = self\n",
        "    fast = self\n",
        "    while(fast and fast.next):\n",
        "      slow = slow.next\n",
        "      fast = fast.next.next\n",
        "      if slow == fast:\n",
        "        return True\n",
        "    return False\n",
        "\n",
        "ll = LinkedList(9)\n",
        "ll.insert_at_end(4)\n",
        "ll.insert_at_end(7)\n",
        "ll.insert_at_end(2)\n",
        "ll.printLL()\n",
        "print()\n",
        "ll.findCycle()"
      ],
      "execution_count": null,
      "outputs": [
        {
          "output_type": "stream",
          "text": [
            "-->9-->4-->7-->2\n"
          ],
          "name": "stdout"
        },
        {
          "output_type": "execute_result",
          "data": {
            "text/plain": [
              "False"
            ]
          },
          "metadata": {
            "tags": []
          },
          "execution_count": 10
        }
      ]
    },
    {
      "cell_type": "markdown",
      "metadata": {
        "id": "Vj_NijaiIEYr"
      },
      "source": [
        "HASH TABLE"
      ]
    },
    {
      "cell_type": "code",
      "metadata": {
        "colab": {
          "base_uri": "https://localhost:8080/"
        },
        "id": "yeRWpP3Htsse",
        "outputId": "407e82fe-e9a2-4041-f06a-c3ce902d0f99"
      },
      "source": [
        "class HashTable:\n",
        "  def __init__(self, t):\n",
        "    self.table = [[] for _ in range(t)]\n",
        "\n",
        "  def insert(self, data, key):\n",
        "    Nkey = key%len(self.table)\n",
        "    self.table[Nkey].append(data)\n",
        "  \n",
        "  def display_table(self):\n",
        "    for j,i in enumerate(self.table):\n",
        "      print(j, end='')\n",
        "      if i!=[]:\n",
        "        for j in i:\n",
        "          print('-->'+ str(j), end ='')\n",
        "      print()\n",
        "\n",
        "if __name__ == '__main__':\n",
        "  t = HashTable(10)\n",
        "  t.insert('Mrig', 2)\n",
        "  t.insert('Molzi', 12)\n",
        "  t.insert('Anshi', 17)\n",
        "  t.insert('Sexy', 24)\n",
        "  t.insert('Vihu', 7)\n",
        "  t.insert('Dukku', 117)\n",
        "\n",
        "  t.display_table()\n"
      ],
      "execution_count": null,
      "outputs": [
        {
          "output_type": "stream",
          "text": [
            "0\n",
            "1\n",
            "2-->Mrig-->Molzi\n",
            "3\n",
            "4-->Sexy\n",
            "5\n",
            "6\n",
            "7-->Anshi-->Vihu-->Dukku\n",
            "8\n",
            "9\n"
          ],
          "name": "stdout"
        }
      ]
    },
    {
      "cell_type": "markdown",
      "metadata": {
        "id": "pTZYDtA8LNno"
      },
      "source": [
        " BINARY SEARCH TREES"
      ]
    },
    {
      "cell_type": "code",
      "metadata": {
        "id": "1bwgG3uIO2Pb",
        "colab": {
          "base_uri": "https://localhost:8080/"
        },
        "outputId": "64e208ec-0f6b-470c-fc35-95ad9463ab57"
      },
      "source": [
        "class Tree:\n",
        "  def __init__(self, data):\n",
        "    self.data = data\n",
        "    self.right = None\n",
        "    self.left = None\n",
        "\n",
        "  def insert_node(self, data):\n",
        "    d = self\n",
        "    if data> d.data:                 # right subtree\n",
        "      if d.right ==None:\n",
        "        d.right = Tree(data)\n",
        "      else:\n",
        "        d.right.insert_node(data)\n",
        "    elif data<d.data:               # left subtree\n",
        "      if d.left == None:\n",
        "          d.left = Tree(data)\n",
        "      else:\n",
        "        d.left.insert_node(data)\n",
        "  def printTree(self, lev, c):\n",
        "    if self.left:\n",
        "      c = 'L'\n",
        "      self.left.printTree(lev+1, c)\n",
        "    print(self.data,lev,c)\n",
        "    if self.right:\n",
        "      c = 'R'\n",
        "      self.right.printTree(lev+1, c)\n",
        "\n",
        "\n",
        "\n",
        "\n",
        "if __name__ =='__main__':\n",
        "  tr = Tree(10)\n",
        "  tr.insert_node(2)\n",
        "  tr.insert_node(11)\n",
        "  tr.insert_node(14)\n",
        "  tr.insert_node(1)\n",
        "  tr.insert_node(13)\n",
        "  tr.printTree(0, '_')"
      ],
      "execution_count": null,
      "outputs": [
        {
          "output_type": "stream",
          "text": [
            "1 2 L\n",
            "2 1 L\n",
            "10 0 L\n",
            "11 1 R\n",
            "13 3 L\n",
            "14 2 L\n"
          ],
          "name": "stdout"
        }
      ]
    },
    {
      "cell_type": "code",
      "metadata": {
        "id": "7vUXmwirzE9N",
        "colab": {
          "base_uri": "https://localhost:8080/",
          "height": 711
        },
        "outputId": "29c1560c-f190-4492-ba73-f2a3f18cc3cf"
      },
      "source": [
        "import networkx as nx\n",
        "import matplotlib.pyplot as plt\n",
        "G = nx.Graph()\n",
        "\n",
        "class Graph:\n",
        "  def __init__(self, data):\n",
        "    self.node = {}\n",
        "    self.node[data] = [0]\n",
        "  \n",
        "  def add_edge(self, a, b):\n",
        "    if a not in self.node:\n",
        "      self.node[a] = [b]\n",
        "      if b not in self.node:\n",
        "        self.node[b] = [a]\n",
        "      else:\n",
        "        self.node[b].append(a)\n",
        "    else:\n",
        "      self.node[a].append(b)\n",
        "      if b not in self.node:\n",
        "        self.node[b] = [a]\n",
        "      else:\n",
        "        self.node[b].append(a)\n",
        "  \n",
        "  def delete_node(self, a):\n",
        "    if a in self.node.keys():\n",
        "      self.node.pop(a)\n",
        "\n",
        "  def print_graph(self):\n",
        "    for i,j in zip(self.node.keys(), self.node.values()):\n",
        "      print(f'{i}-->{j}')\n",
        "\n",
        "  def show_graph(self):\n",
        "    nl = []\n",
        "    for i,j in zip(self.node.keys(), self.node.values()):\n",
        "      if len(j)>1:\n",
        "        for k in j:\n",
        "          nl.append((i,k))\n",
        "    plt.figure(figsize =(5,5))\n",
        "    G.add_edges_from(nl)\n",
        "    nx.draw_networkx(G)\n",
        "\n",
        "\n",
        "g = Graph(1)\n",
        "g.add_edge(1,2)\n",
        "g.add_edge(2,3)\n",
        "g.add_edge(3,4)\n",
        "g.add_edge(2,4)\n",
        "g.add_edge(1,4)\n",
        "g.print_graph()\n",
        "g.show_graph()\n",
        "g.delete_node(4)\n",
        "g.print_graph()\n",
        "g.show_graph()"
      ],
      "execution_count": null,
      "outputs": [
        {
          "output_type": "stream",
          "text": [
            "1-->[0, 2, 4]\n",
            "2-->[1, 3, 4]\n",
            "3-->[2, 4]\n",
            "4-->[3, 2, 1]\n",
            "1-->[0, 2, 4]\n",
            "2-->[1, 3, 4]\n",
            "3-->[2, 4]\n"
          ],
          "name": "stdout"
        },
        {
          "output_type": "display_data",
          "data": {
            "image/png": "[encoded data removed]",
            "text/plain": [
              "<Figure size 360x360 with 1 Axes>"
            ]
          },
          "metadata": {
            "tags": []
          }
        },
        {
          "output_type": "display_data",
          "data": {
            "image/png": "[encoded data removed]",
            "text/plain": [
              "<Figure size 360x360 with 1 Axes>"
            ]
          },
          "metadata": {
            "tags": []
          }
        }
      ]
    },
    {
      "cell_type": "code",
      "metadata": {
        "id": "equvPZLjzvtQ"
      },
      "source": [
        ""
      ],
      "execution_count": null,
      "outputs": []
    }
  ]
}